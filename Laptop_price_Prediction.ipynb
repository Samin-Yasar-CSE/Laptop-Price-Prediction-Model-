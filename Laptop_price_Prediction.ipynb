{
  "cells": [
    {
      "cell_type": "code",
      "execution_count": null,
      "metadata": {
        "collapsed": true,
        "id": "XpFQwjQCToNW"
      },
      "outputs": [],
      "source": [
        "from google.colab import files\n",
        "uploaded = files.upload()"
      ]
    },
    {
      "cell_type": "code",
      "execution_count": null,
      "metadata": {
        "id": "sTz1aHfERB7l"
      },
      "outputs": [],
      "source": [
        "import pandas as pd\n",
        "df = pd.read_csv(\"laptop_price.csv\", encoding =\"latin-1\")\n",
        "df"
      ]
    },
    {
      "cell_type": "code",
      "execution_count": null,
      "metadata": {
        "id": "LcSMEmbSZpkm"
      },
      "outputs": [],
      "source": [
        "df = df.drop(\"Product\", axis = 1)\n",
        "df"
      ]
    },
    {
      "cell_type": "code",
      "execution_count": null,
      "metadata": {
        "collapsed": true,
        "id": "mPt14PvsaAgO"
      },
      "outputs": [],
      "source": [
        "df = df.join(pd.get_dummies(df['Company'], dtype=int))\n",
        "df = df.drop(\"Company\", axis=1)\n",
        "\n",
        "df = df.join(pd.get_dummies(df['TypeName'], dtype=int))\n",
        "df = df.drop(\"TypeName\", axis=1)\n",
        "\n",
        "df"
      ]
    },
    {
      "cell_type": "code",
      "execution_count": 777,
      "metadata": {
        "id": "0ejTqfBnc0FS"
      },
      "outputs": [],
      "source": [
        "df[\"ScreenResolution\"] = df.ScreenResolution.str.split(\" \").apply(lambda x: x[-1])\n",
        "df[\"Screen Width\"] = df.ScreenResolution.str.split(\"x\").apply(lambda x: x[0])\n",
        "df[\"Screen Height\"] = df.ScreenResolution.str.split(\"x\").apply(lambda x: x[1])\n",
        "\n",
        "df = df.drop(\"ScreenResolution\", axis=1)\n",
        "\n",
        "df[\"CPU Brand\"] = df.Cpu.str.split(\" \").apply(lambda x: x[0])\n",
        "df[\"CPU Frequency\"] = df.Cpu.str.split(\" \").apply(lambda x: x[-1])\n",
        "\n",
        "df = df.drop(\"Cpu\", axis=1)\n",
        "\n",
        "df[\"CPU Frequency\"] = df[\"CPU Frequency\"].str[:-3]\n",
        "\n",
        "df[\"Ram\"] = df[\"Ram\"].str[:-2]\n",
        "\n",
        "df[\"Ram\"] = df[\"Ram\"].astype(\"int\")\n",
        "df[\"CPU Frequency\"] = df[\"CPU Frequency\"].astype(\"float\")\n",
        "\n",
        "df[\"Screen Width\"] = df[\"Screen Width\"].astype(\"int\")\n",
        "df[\"Screen Height\"] = df[\"Screen Height\"].astype(\"int\")\n",
        "\n",
        "df[\"Memory Amount\"] = df.Memory.str.split(\" \").apply(lambda x: x[0])\n",
        "df[\"Memory Type\"] = df.Memory.str.split(\" \").apply(lambda x: x[1])\n",
        "\n",
        "def turn_memory_into_MB(value):\n",
        "    if \"GB\" in value:\n",
        "        return float(value[:value.find(\"GB\")]) * 1000\n",
        "    elif \"TB\" in value:\n",
        "        return float(value[:value.find(\"TB\")]) * 1000000\n",
        "\n",
        "df[\"Memory Amount\"] = df[\"Memory Amount\"].apply(turn_memory_into_MB)\n",
        "\n",
        "df = df.drop(\"Memory\", axis=1)\n",
        "df[\"Weight\"] = df[\"Weight\"].str[:-2]\n",
        "df[\"Weight\"] = df[\"Weight\"].astype(\"float\")\n",
        "\n",
        "df[\"GPU Brand\"] = df.Gpu.str.split(\" \").apply(lambda x: x[0])\n",
        "df = df.drop(\"Gpu\", axis = 1)\n",
        "\n",
        "\n",
        "df = df.join(pd.get_dummies(df['OpSys'], dtype=int))\n",
        "df = df.drop(\"OpSys\", axis=1)\n",
        "\n",
        "\n"
      ]
    },
    {
      "cell_type": "code",
      "execution_count": 778,
      "metadata": {
        "id": "h1w7Jv5fejd6"
      },
      "outputs": [],
      "source": [
        "cpu_categories = pd.get_dummies(df[\"CPU Brand\"], dtype = int)\n",
        "cpu_categories.columns = [col+\"_CPU\" for col in cpu_categories.columns]\n",
        "\n",
        "df = df.join(cpu_categories)\n",
        "df = df.drop(\"CPU Brand\", axis = 1)\n",
        "\n",
        "\n",
        "gpu_categories = pd.get_dummies(df[\"GPU Brand\"], dtype = int)\n",
        "gpu_categories.columns = [col+\"_GPU\" for col in gpu_categories.columns]\n",
        "\n",
        "df = df.join(gpu_categories)\n",
        "df = df.drop(\"GPU Brand\", axis = 1)"
      ]
    },
    {
      "cell_type": "code",
      "execution_count": null,
      "metadata": {
        "collapsed": true,
        "id": "NzzzpM-wyi5S"
      },
      "outputs": [],
      "source": [
        "import seaborn as sns\n",
        "import matplotlib.pyplot as plt\n",
        "\n",
        "plt.figure(figsize=(20,15))\n",
        "\n",
        "numeric_df = df.select_dtypes(include='number')\n",
        "\n",
        "sns.heatmap(numeric_df.corr(), annot=True, cmap=\"YlGnBu\")\n",
        "\n",
        "plt.show()\n"
      ]
    },
    {
      "cell_type": "code",
      "execution_count": null,
      "metadata": {
        "collapsed": true,
        "id": "8RfWCWiB0kpM"
      },
      "outputs": [],
      "source": [
        "\n",
        "numeric_df = df.select_dtypes(include='number')\n",
        "target_correlations = numeric_df.corr()['Price_euros'].apply(abs).sort_values()\n",
        "selected_features = list(target_correlations[-20:].index)\n",
        "\n",
        "\n",
        "target_correlations"
      ]
    },
    {
      "cell_type": "code",
      "execution_count": null,
      "metadata": {
        "collapsed": true,
        "id": "-e4QfLFk30fH"
      },
      "outputs": [],
      "source": [
        "selected_features = target_correlations[-21:].index\n",
        "selected_features = list(selected_features)\n",
        "selected_features"
      ]
    },
    {
      "cell_type": "code",
      "execution_count": null,
      "metadata": {
        "collapsed": true,
        "id": "Xh8b5_5g4hng"
      },
      "outputs": [],
      "source": [
        "limited_df = df[selected_features]\n",
        "limited_df"
      ]
    },
    {
      "cell_type": "code",
      "execution_count": null,
      "metadata": {
        "collapsed": true,
        "id": "TMeNj_bi4y-f"
      },
      "outputs": [],
      "source": [
        "plt.figure(figsize=(20,15))\n",
        "\n",
        "numeric_df = limited_df.select_dtypes(include='number')\n",
        "\n",
        "sns.heatmap(numeric_df.corr(), annot=True, cmap=\"YlGnBu\")\n",
        "\n",
        "plt.show()"
      ]
    },
    {
      "cell_type": "code",
      "execution_count": 784,
      "metadata": {
        "id": "sb1A-hTA5eps"
      },
      "outputs": [],
      "source": [
        "from sklearn.preprocessing import StandardScaler\n",
        "from sklearn.model_selection import train_test_split\n",
        "from sklearn.ensemble import RandomForestRegressor\n",
        "\n",
        "X,y = limited_df.drop(\"Price_euros\", axis=1), limited_df[\"Price_euros\"]\n",
        "X_train, X_test, y_train, y_test = train_test_split(X, y, test_size=0.15)\n",
        "\n",
        "X_test_orig = X_test.copy()\n",
        "\n",
        "\n",
        "Scaler = StandardScaler()\n",
        "\n",
        "X_train = Scaler.fit_transform(X_train)\n",
        "X_test = Scaler.transform(X_test)\n",
        "\n",
        "y_pred = forest.predict(X_test)\n"
      ]
    },
    {
      "cell_type": "code",
      "execution_count": null,
      "metadata": {
        "collapsed": true,
        "id": "b0iF7_DZ5ee3"
      },
      "outputs": [],
      "source": [
        "forest = RandomForestRegressor()\n",
        "forest.fit(X_train, y_train)\n"
      ]
    },
    {
      "cell_type": "code",
      "execution_count": null,
      "metadata": {
        "collapsed": true,
        "id": "JoQBBOYV7R4J"
      },
      "outputs": [],
      "source": [
        "forest.score(X_test, y_test)"
      ]
    },
    {
      "cell_type": "code",
      "execution_count": null,
      "metadata": {
        "collapsed": true,
        "id": "OWzyw_Gk7lIx"
      },
      "outputs": [],
      "source": [
        "plt.figure(figsize=(12,9))\n",
        "plt.scatter(y_pred, y_test)\n",
        "\n",
        "plt.plot(range(0,6000), range(0,6000), c = \"red\")"
      ]
    },
    {
      "cell_type": "code",
      "execution_count": null,
      "metadata": {
        "collapsed": true,
        "id": "BD2bT2CV_UV4"
      },
      "outputs": [],
      "source": [
        "X_new_scaled = Scaler.transform(X_test_orig.iloc[[0]])\n",
        "\n",
        "forest.predict(X_new_scaled)"
      ]
    },
    {
      "cell_type": "code",
      "execution_count": null,
      "metadata": {
        "collapsed": true,
        "id": "-KOQGKsSIzh5"
      },
      "outputs": [],
      "source": [
        "y_test.iloc[0]"
      ]
    },
    {
      "cell_type": "code",
      "execution_count": 790,
      "metadata": {
        "id": "1LfEWNUoN5h6"
      },
      "outputs": [],
      "source": [
        "def predict_laptop_price(user_input_dict):\n",
        "    import numpy as np\n",
        "    from sklearn.metrics.pairwise import cosine_similarity\n",
        "\n",
        "    # Convert dict to DataFrame\n",
        "    input_df = pd.DataFrame([user_input_dict])\n",
        "\n",
        "    # Add missing columns\n",
        "    for col in model_features:\n",
        "        if col not in input_df.columns:\n",
        "            input_df[col] = 0\n",
        "\n",
        "    # Reorder columns\n",
        "    input_df = input_df[model_features]\n",
        "\n",
        "    # Scale input\n",
        "    input_scaled = Scaler.transform(input_df)\n",
        "\n",
        "    # Predict price\n",
        "    predicted_price = forest.predict(input_scaled)[0]\n",
        "    fluctuation = 0.1 * predicted_price  # ±10% range\n",
        "\n",
        "    # Output predicted range\n",
        "    print(\"====================================\")\n",
        "    print(f\"💰 Estimated Price: €{predicted_price:.2f}\")\n",
        "    print(f\"📊 Likely Range: €{predicted_price - fluctuation:.2f} to €{predicted_price + fluctuation:.2f}\")\n",
        "    print(\"====================================\\n\")\n",
        "\n",
        "    # Show similar examples from dataset\n",
        "    print(\"🖥️ Similar laptops from dataset:\")\n",
        "\n",
        "    # Scale entire dataset\n",
        "    X_scaled_full = Scaler.transform(X)\n",
        "\n",
        "    # Cosine similarity to find similar rows\n",
        "    similarities = cosine_similarity(input_scaled, X_scaled_full)[0]\n",
        "    top_indices = similarities.argsort()[-3:][::-1]  # top 3 similar\n",
        "\n",
        "    similar_laptops = limited_df.iloc[top_indices]\n",
        "\n",
        "    for idx, row in similar_laptops.iterrows():\n",
        "        # Determine GPU brand text\n",
        "        gpu_brand = []\n",
        "        if row['Nvidia_GPU'] == 1:\n",
        "            gpu_brand.append(\"Nvidia\")\n",
        "        if row['Intel_GPU'] == 1:\n",
        "            gpu_brand.append(\"Intel\")\n",
        "        if row['AMD_GPU'] == 1:\n",
        "            gpu_brand.append(\"AMD\")\n",
        "        gpu_brand_text = \", \".join(gpu_brand) if gpu_brand else \"Unknown\"\n",
        "\n",
        "        # Additional flags for notebook type\n",
        "        types = []\n",
        "        for t in ['Notebook', 'Gaming', 'Ultrabook', 'Workstation']:\n",
        "            if row.get(t, 0) == 1:\n",
        "                types.append(t)\n",
        "        type_text = \", \".join(types) if types else \"Other\"\n",
        "\n",
        "        print(f\"- Price: €{row['Price_euros']:.2f}, RAM: {row['Ram']} GB, CPU Freq: {row['CPU Frequency']} GHz, Weight: {row['Weight']} kg, GPU: {gpu_brand_text}, Type: {type_text}\")\n",
        "\n",
        "    return predicted_price\n",
        "\n"
      ]
    },
    {
      "cell_type": "code",
      "execution_count": 791,
      "metadata": {
        "collapsed": true,
        "id": "sh_QzelJN6io"
      },
      "outputs": [],
      "source": [
        "def get_user_input():\n",
        "    print(\"🔧 Please enter the following laptop specs:\")\n",
        "    # RAM\n",
        "    ram = int(input(\"Enter RAM (GB) [e.g., 4, 8, 16, 32]: \"))\n",
        "    # Weight\n",
        "    weight = float(input(\"Enter Weight (kg) [e.g., 1.2, 1.5, 1.8, 2.0]: \"))\n",
        "    # CPU Frequency\n",
        "    cpu_freq = float(input(\"Enter CPU Frequency (GHz) [e.g., 2.0, 2.5, 3.2]: \"))\n",
        "\n",
        "    # Screen Resolution examples for width and height\n",
        "    print(\"Common screen resolutions:\")\n",
        "    print(\"1: 1366 x 768\")\n",
        "    print(\"2: 1920 x 1080\")\n",
        "    print(\"3: 2560 x 1440\")\n",
        "    print(\"4: 3840 x 2160 (4K)\")\n",
        "\n",
        "    screen_choice = input(\"Choose screen resolution by number or enter custom width height separated by comma (e.g. 1920,1080): \")\n",
        "\n",
        "    if ',' in screen_choice:\n",
        "        width, height = map(int, screen_choice.split(','))\n",
        "    else:\n",
        "        choices = {\n",
        "            '1': (1366, 768),\n",
        "            '2': (1920, 1080),\n",
        "            '3': (2560, 1440),\n",
        "            '4': (3840, 2160)\n",
        "        }\n",
        "        width, height = choices.get(screen_choice, (1920,1080))  # default to 1920x1080\n",
        "\n",
        "    # Category flags\n",
        "    notebook = int(input(\"Is it a Notebook? (1 for Yes, 0 for No): \"))\n",
        "    gaming = int(input(\"Is it a Gaming laptop? (1 for Yes, 0 for No): \"))\n",
        "    ultrabook = int(input(\"Is it an Ultrabook? (1 for Yes, 0 for No): \"))\n",
        "    workstation = int(input(\"Is it a Workstation? (1 for Yes, 0 for No): \"))\n",
        "\n",
        "    # Brands (update this list based on your dataset's brand columns)\n",
        "    brands = ['Acer', 'Razer', 'Dell', 'HP', 'Lenovo', 'Asus', 'Apple', 'MSI']\n",
        "    print(\"Available Brands:\")\n",
        "    for i, b in enumerate(brands):\n",
        "        print(f\"{i+1}: {b}\")\n",
        "    brand_choice = int(input(f\"Choose brand by number (1-{len(brands)}): \"))\n",
        "    brand_dict = {b:0 for b in brands}\n",
        "    if 1 <= brand_choice <= len(brands):\n",
        "        brand_dict[brands[brand_choice-1]] = 1\n",
        "    else:\n",
        "        print(\"Invalid brand choice, defaulting all to 0\")\n",
        "\n",
        "    # OS options\n",
        "    os_options = ['Windows 7', 'Linux', 'No OS', 'Windows 10', 'Windows 11']\n",
        "    print(\"Operating Systems:\")\n",
        "    for i, os in enumerate(os_options):\n",
        "        print(f\"{i+1}: {os}\")\n",
        "    os_choice = int(input(f\"Choose OS by number (1-{len(os_options)}): \"))\n",
        "    os_dict = {os_name: 0 for os_name in ['Windows 7', 'Linux', 'No OS']}\n",
        "    if os_choice == 1:\n",
        "        os_dict['Windows 7'] = 1\n",
        "    elif os_choice == 2:\n",
        "        os_dict['Linux'] = 1\n",
        "    elif os_choice == 3:\n",
        "        os_dict['No OS'] = 1\n",
        "    # If Windows 10 or 11, leave all 0 (assuming your model columns match)\n",
        "\n",
        "    # CPU Brand\n",
        "    cpu_brands = ['AMD_CPU', 'Intel_CPU']\n",
        "    print(\"CPU Brands:\")\n",
        "    for i, c in enumerate(cpu_brands):\n",
        "        print(f\"{i+1}: {c[:-4]}\")  # Show without _CPU suffix\n",
        "    cpu_choice = int(input(f\"Choose CPU brand (1-{len(cpu_brands)}): \"))\n",
        "    cpu_dict = {c: 0 for c in cpu_brands}\n",
        "    if 1 <= cpu_choice <= len(cpu_brands):\n",
        "        cpu_dict[cpu_brands[cpu_choice-1]] = 1\n",
        "\n",
        "    # GPU Brand\n",
        "    gpu_brands = ['Intel_GPU', 'AMD_GPU', 'Nvidia_GPU']\n",
        "    print(\"GPU Brands:\")\n",
        "    for i, g in enumerate(gpu_brands):\n",
        "        print(f\"{i+1}: {g[:-4]}\")\n",
        "    gpu_choice = int(input(f\"Choose GPU brand (1-{len(gpu_brands)}): \"))\n",
        "    gpu_dict = {g: 0 for g in gpu_brands}\n",
        "    if 1 <= gpu_choice <= len(gpu_brands):\n",
        "        gpu_dict[gpu_brands[gpu_choice-1]] = 1\n",
        "\n",
        "    # Build final dictionary with all required features\n",
        "    user_input = {\n",
        "        'Ram': ram,\n",
        "        'Weight': weight,\n",
        "        'CPU Frequency': cpu_freq,\n",
        "        'Screen Width': width,\n",
        "        'Screen Height': height,\n",
        "        'Notebook': notebook,\n",
        "        'Gaming': gaming,\n",
        "        'Ultrabook': ultrabook,\n",
        "        'Workstation': workstation,\n",
        "        **brand_dict,\n",
        "        **os_dict,\n",
        "        **cpu_dict,\n",
        "        **gpu_dict\n",
        "    }\n",
        "\n",
        "    return user_input\n",
        "\n"
      ]
    },
    {
      "cell_type": "code",
      "execution_count": 793,
      "metadata": {
        "colab": {
          "base_uri": "https://localhost:8080/"
        },
        "collapsed": true,
        "id": "eR0Ba-3vbR43",
        "outputId": "9564148a-1ba5-4ec1-c39d-e5b854854586"
      },
      "outputs": [
        {
          "name": "stdout",
          "output_type": "stream",
          "text": [
            "🔧 Please enter the following laptop specs:\n",
            "Enter RAM (GB) [e.g., 4, 8, 16, 32]: 16\n",
            "Enter Weight (kg) [e.g., 1.2, 1.5, 1.8, 2.0]: 1.5\n",
            "Enter CPU Frequency (GHz) [e.g., 2.0, 2.5, 3.2]: 2.5\n",
            "Common screen resolutions:\n",
            "1: 1366 x 768\n",
            "2: 1920 x 1080\n",
            "3: 2560 x 1440\n",
            "4: 3840 x 2160 (4K)\n",
            "Choose screen resolution by number or enter custom width height separated by comma (e.g. 1920,1080): 1920,1080\n",
            "Is it a Notebook? (1 for Yes, 0 for No): 1\n",
            "Is it a Gaming laptop? (1 for Yes, 0 for No): 0\n",
            "Is it an Ultrabook? (1 for Yes, 0 for No): 0\n",
            "Is it a Workstation? (1 for Yes, 0 for No): 0\n",
            "Available Brands:\n",
            "1: Acer\n",
            "2: Razer\n",
            "3: Dell\n",
            "4: HP\n",
            "5: Lenovo\n",
            "6: Asus\n",
            "7: Apple\n",
            "8: MSI\n",
            "Choose brand by number (1-8): 6\n",
            "Operating Systems:\n",
            "1: Windows 7\n",
            "2: Linux\n",
            "3: No OS\n",
            "4: Windows 10\n",
            "5: Windows 11\n",
            "Choose OS by number (1-5): 5\n",
            "CPU Brands:\n",
            "1: AMD\n",
            "2: Intel\n",
            "Choose CPU brand (1-2): 2\n",
            "GPU Brands:\n",
            "1: Intel\n",
            "2: AMD\n",
            "3: Nvidia\n",
            "Choose GPU brand (1-3): 1\n",
            "====================================\n",
            "💰 Estimated Price: €1402.39\n",
            "📊 Likely Range: €1262.15 to €1542.63\n",
            "====================================\n",
            "\n",
            "🖥️ Similar laptops from dataset:\n",
            "- Price: €1499.00, RAM: 16.0 GB, CPU Freq: 2.7 GHz, Weight: 1.4 kg, GPU: Intel, Type: Notebook\n",
            "- Price: €1426.66, RAM: 16.0 GB, CPU Freq: 2.6 GHz, Weight: 1.93 kg, GPU: Intel, Type: Notebook\n",
            "- Price: €1197.00, RAM: 16.0 GB, CPU Freq: 1.8 GHz, Weight: 1.49 kg, GPU: Intel, Type: Notebook\n"
          ]
        },
        {
          "data": {
            "text/plain": [
              "np.float64(1402.387666666667)"
            ]
          },
          "execution_count": 793,
          "metadata": {},
          "output_type": "execute_result"
        }
      ],
      "source": [
        "user_input_dict = get_user_input()\n",
        "predict_laptop_price(user_input_dict)"
      ]
    }
  ],
  "metadata": {
    "colab": {
      "name": "Welcome To Colab",
      "provenance": []
    },
    "kernelspec": {
      "display_name": "Python 3",
      "name": "python3"
    }
  },
  "nbformat": 4,
  "nbformat_minor": 0
}
